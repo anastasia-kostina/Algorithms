{
 "cells": [
  {
   "cell_type": "markdown",
   "id": "37ee1e38",
   "metadata": {},
   "source": [
    "1. Проведите небольшое исследование алгоритма градиентного спуска на данных из урока. Оцените влияние значений скорости обучения (`eta`) и количества итераций на ошибку алгоритма. Как связаны эти два гиперпараметра между собой? Подберите скорость обучения и количество итераций до совпадения ответов алгоритма с результатами МНК. Как можно ускорить процесс вычисления весов?"
   ]
  },
  {
   "cell_type": "code",
   "execution_count": 1,
   "id": "c624dd7b",
   "metadata": {},
   "outputs": [],
   "source": [
    "import numpy as np\n",
    "import matplotlib.pyplot as plt"
   ]
  },
  {
   "cell_type": "code",
   "execution_count": 2,
   "id": "b5fd7117",
   "metadata": {},
   "outputs": [],
   "source": [
    "X = np.array([[1, 1, 1, 1, 1, 1, 1, 1, 1, 1],     \n",
    "              [1, 1, 2, 1, 3, 0, 5, 10, 1, 2]]).T\n",
    "y = [45, 55, 50, 59, 65, 35, 75, 80, 50, 60]"
   ]
  },
  {
   "cell_type": "code",
   "execution_count": 3,
   "id": "843c8f9a",
   "metadata": {},
   "outputs": [],
   "source": [
    "def calc_mse(y, y_pred):\n",
    "    err = np.mean((y - y_pred)**2)\n",
    "    return err\n",
    "\n",
    "def calc_mae(y, y_pred):\n",
    "    err = np.mean(np.abs(y - y_pred))\n",
    "    return err"
   ]
  },
  {
   "cell_type": "code",
   "execution_count": 4,
   "id": "30853fb9",
   "metadata": {},
   "outputs": [
    {
     "name": "stdout",
     "output_type": "stream",
     "text": [
      "0 [1.1102 0.84  ] 3173.15\n",
      "100 [ 7.43515582 10.71754582] 899.5990444359252\n",
      "200 [11.44993589 10.49282195] 735.5540619653672\n",
      "300 [14.98921624  9.8634316 ] 606.0048772266812\n",
      "400 [18.17511588  9.27626113] 500.7989288428639\n",
      "500 [21.04606457  8.74617136] 415.355423398327\n",
      "600 [23.63334499  8.26841272] 345.9620646005472\n",
      "700 [25.96499229  7.83785632] 289.6039104863001\n",
      "800 [28.06626432  7.44984037] 243.83236130353217\n",
      "900 [29.95992301  7.10016181] 206.65877484533297\n",
      "1000 [31.66648131  6.78503276] 176.46806566379882\n"
     ]
    }
   ],
   "source": [
    "# Исходный код\n",
    "n = X.shape[0]\n",
    "eta = 1e-3\n",
    "iterations = 1001\n",
    "w = np.array([1, 0.5])\n",
    "\n",
    "for i in range(iterations):\n",
    "    y_pred = np.dot(X, w)\n",
    "    err = calc_mse(y, y_pred)\n",
    "    for j in range(w.shape[0]):\n",
    "        w[j] -= eta * (1/n * 2 * np.sum(X[:,j] * (y_pred - y)))\n",
    "    if i % 100 == 0:\n",
    "        print(i, w, err) # МНК: array([47.23214286,  3.91071429]) 45.937499999999986"
   ]
  },
  {
   "cell_type": "markdown",
   "id": "cbe69d40",
   "metadata": {},
   "source": [
    "Рассмотрим, как влияет увеличение количества итераций на ошибку при фиксированном значении скорости обучения, равном 1e-3:"
   ]
  },
  {
   "cell_type": "code",
   "execution_count": 5,
   "id": "3d7ba99a",
   "metadata": {},
   "outputs": [
    {
     "name": "stdout",
     "output_type": "stream",
     "text": [
      "500 [21.04606457  8.74617136] 415.355423398327\n",
      "1000 [31.66648131  6.78503276] 176.46806566379882\n",
      "1500 [37.97952317  5.61928129] 92.05932434403572\n",
      "2000 [41.73215361  4.92632937] 62.2342399245102\n",
      "2500 [43.96281128  4.51442137] 51.69580934583289\n",
      "3000 [45.28877016  4.26957292] 47.97214782992787\n",
      "3500 [46.07695337  4.12402886] 46.656424868950594\n",
      "4000 [46.54546925  4.03751382] 46.19152576288303\n",
      "4500 [46.82396684  3.98608711] 46.02725776328683\n",
      "5000 [46.98951279  3.95551778] 45.96921511416331\n",
      "6000 [47.14641166  3.92654521] 45.94145963171208\n",
      "7000 [47.2018505  3.916308 ] 45.93799435998288\n",
      "12000 [47.23197602  3.91074509] 45.937500014996345\n",
      "20000 [47.23214282  3.91071429] 45.937499999999986\n"
     ]
    }
   ],
   "source": [
    "iterations_list = [501, 1001, 1501, 2001, 2501, 3001, 3501, 4001, 4501, 5001, 6001, 7001, 12001, 20001]\n",
    "err_list_iter = []\n",
    "\n",
    "for iteration in iterations_list:\n",
    "    n = X.shape[0]\n",
    "    eta = 1e-3\n",
    "    w = np.array([1, 0.5])\n",
    "    \n",
    "    for i in range(iteration):\n",
    "        y_pred = np.dot(X, w)\n",
    "        err = calc_mse(y, y_pred)\n",
    "        for j in range(w.shape[0]):\n",
    "            w[j] -= eta * (1/n * 2 * np.sum(X[:,j] * (y_pred - y)))\n",
    "        if i == (iteration-1):\n",
    "            print(i, w, err)\n",
    "            err_list_iter.append(err)"
   ]
  },
  {
   "cell_type": "markdown",
   "id": "3c9746ea",
   "metadata": {},
   "source": [
    "Построим график зависимости ошибки алгоритма от количества итераций:"
   ]
  },
  {
   "cell_type": "code",
   "execution_count": 6,
   "id": "841f272f",
   "metadata": {},
   "outputs": [
    {
     "data": {
      "image/png": "[encoded data removed]",
      "text/plain": [
       "<Figure size 432x288 with 1 Axes>"
      ]
     },
     "metadata": {
      "needs_background": "light"
     },
     "output_type": "display_data"
    }
   ],
   "source": [
    "plt.plot(iterations_list, err_list_iter)\n",
    "plt.xlabel('Количество итераций')\n",
    "plt.ylabel('Ошибка');"
   ]
  },
  {
   "cell_type": "markdown",
   "id": "7dc399c0",
   "metadata": {},
   "source": [
    "Полученные данные показывают, что увеличение числа итераций приводит к падению ошибки. На начальном этапе (до 2500 итераций) увеличение итераций приводит к существенному падению ошибки: ошибка падает с 415.35 при 500 итераций до 51.69 при 2500 итераций, т.е. более, чем в 8 раз. Затем (после 2500 итераций) происходит  очень медленное изменение ошибки:  ошибка уменьшается с 51.59 при 2500 итераций до 45.937 при 20000 итераций (т.е. падает в 1.12 раз). Достижение ошибки, соотвтствующей полученной методом наименьших квадратов, происходит при 20000 итераций. "
   ]
  },
  {
   "cell_type": "markdown",
   "id": "a37d9e56",
   "metadata": {},
   "source": [
    "Рассмотрим, как влияет изменение параметра eta на ошибку при фиксированном количестве итераций, равном 1000:"
   ]
  },
  {
   "cell_type": "code",
   "execution_count": 7,
   "id": "a4ee12c0",
   "metadata": {},
   "outputs": [
    {
     "name": "stdout",
     "output_type": "stream",
     "text": [
      "1000 [3.67512105e+150 1.99023493e+151] 3.094588442436394e+303 0.08\n",
      "1000 [1.48983537e+46 8.06809452e+46] 8.220757855742908e+94 0.07\n",
      "1000 [47.23214286  3.91071429] 45.937500000000014 0.06\n",
      "1000 [47.23214286  3.91071429] 45.9375 0.05\n",
      "1000 [47.23214282  3.91071429] 45.937499999999986 0.02\n",
      "1000 [47.23088237  3.91094704] 45.937500872219864 0.01\n",
      "1000 [46.99313195  3.95484948] 45.96853390140358 0.005\n",
      "1000 [31.66648131  6.78503276] 176.46806566379882 0.001\n",
      "1000 [ 7.38906894 10.68706909] 900.0794345405571 0.0001\n"
     ]
    }
   ],
   "source": [
    "eta_list = [0.08, 0.07, 0.06, 0.05, 0.02, 0.01, 5e-3, 1e-3, 1e-4]\n",
    "err_list_eta = []\n",
    "\n",
    "for item in eta_list:\n",
    "    n = X.shape[0]\n",
    "    eta = item\n",
    "    iterations = 1001\n",
    "    w = np.array([1, 0.5])\n",
    "    \n",
    "    for i in range(iterations):\n",
    "        y_pred = np.dot(X, w)\n",
    "        err = calc_mse(y, y_pred)\n",
    "        for j in range(w.shape[0]):\n",
    "            w[j] -= eta * (1/n * 2 * np.sum(X[:,j] * (y_pred - y)))\n",
    "        if i == (iterations-1):\n",
    "            print(i, w, err, eta)\n",
    "            err_list_eta.append(err)"
   ]
  },
  {
   "cell_type": "markdown",
   "id": "4b21f45f",
   "metadata": {},
   "source": [
    "Построим график зависимости ошибки алгоритма от параметра eta:"
   ]
  },
  {
   "cell_type": "code",
   "execution_count": 8,
   "id": "25e49620",
   "metadata": {},
   "outputs": [
    {
     "data": {
      "image/png": "[encoded data removed]",
      "text/plain": [
       "<Figure size 432x288 with 1 Axes>"
      ]
     },
     "metadata": {
      "needs_background": "light"
     },
     "output_type": "display_data"
    }
   ],
   "source": [
    "plt.plot(eta_list, err_list_eta)\n",
    "plt.xlabel('Параметр eta')\n",
    "plt.ylabel('Ошибка');"
   ]
  },
  {
   "cell_type": "markdown",
   "id": "731e2123",
   "metadata": {},
   "source": [
    "Для большей наглядности построим начальный участок этой зависимости, соответствующий изменению параметра eta от 1e-4 до 0.06:  "
   ]
  },
  {
   "cell_type": "code",
   "execution_count": 9,
   "id": "11c3f7e6",
   "metadata": {},
   "outputs": [
    {
     "data": {
      "image/png": "[encoded data removed]",
      "text/plain": [
       "<Figure size 432x288 with 1 Axes>"
      ]
     },
     "metadata": {
      "needs_background": "light"
     },
     "output_type": "display_data"
    }
   ],
   "source": [
    "plt.plot(eta_list[2:], err_list_eta[2:])\n",
    "plt.xlabel('Параметр eta')\n",
    "plt.ylabel('Ошибка');"
   ]
  },
  {
   "cell_type": "markdown",
   "id": "8305108f",
   "metadata": {},
   "source": [
    "Полученные данные показывают, что при параметре eta, равном 0.02, полученная ошибка совпадает с ошибкой в результате МНК. Увеличение параметра eta до 0.08 приводит к стремлению ошибки к бесконечности. Это связано с тем, что слишком большой шаг алгоритма может вызывать ситуацию, при которой он \"перепрыгивает\" через минимум или расходится. Слишком маленький шаг, как например 1e-3 или 1e-4, приводит к более медленной сходимости алгоритма и за заданное количество итераций алгоритм не успевает сойтись."
   ]
  },
  {
   "cell_type": "markdown",
   "id": "c746c7c4",
   "metadata": {},
   "source": [
    "Таким образом, увеличение скорости обучения позволяет снизить число итераций для получения решения с заданной ошибкой. Однако слишком большие значения скорости обучения могут привести к росту ошибки и расхождению алгоритма. Увеличение числа итераций для малых значений параметра eta может позволить снизить ошибку. Однако очень маленькие скорости обучения потребуют значительного количества итераций для получения необходимой ошибки. "
   ]
  },
  {
   "cell_type": "markdown",
   "id": "da840465",
   "metadata": {},
   "source": [
    "Совпадение результатов работы алгоритма грдиентного спуска с результатами МНК можно получить при количестве итераций, равном 1090 и параметре eta, равном 0.022 "
   ]
  },
  {
   "cell_type": "code",
   "execution_count": 10,
   "id": "fb22383a",
   "metadata": {},
   "outputs": [
    {
     "name": "stdout",
     "output_type": "stream",
     "text": [
      "1090 [47.23214286  3.91071429] 45.937499999999986\n"
     ]
    }
   ],
   "source": [
    "n = X.shape[0]\n",
    "eta = 0.022\n",
    "iterations = 1091\n",
    "w = np.array([1, 0.5])\n",
    "\n",
    "for i in range(iterations):\n",
    "    y_pred = np.dot(X, w)\n",
    "    err = calc_mse(y, y_pred)\n",
    "    for j in range(w.shape[0]):\n",
    "        w[j] -= eta * (1/n * 2 * np.sum(X[:,j] * (y_pred - y)))\n",
    "    if i == iterations-1:\n",
    "        print(i, w, err) # МНК: array([47.23214286,  3.91071429]) 45.937499999999986"
   ]
  },
  {
   "cell_type": "markdown",
   "id": "e2cfc6e5",
   "metadata": {},
   "source": [
    "Процесс вычисления весов можно ускорить, например, путем применения методики переменного размера шага, при которой на начальном этапе берется большой шаг, уменьшающийся с увеличением количества итераций."
   ]
  },
  {
   "cell_type": "code",
   "execution_count": 50,
   "id": "643e8836",
   "metadata": {},
   "outputs": [
    {
     "name": "stdout",
     "output_type": "stream",
     "text": [
      "0 [ 7.612 20.9  ] 3173.15\n",
      "100 [47.05426317  3.94356113] 45.95646935612194\n",
      "200 [47.23037651  3.91104046] 45.93750183944908\n",
      "300 [47.23210734  3.91072084] 45.937500000733316\n",
      "400 [47.23214156  3.91071453] 45.93750000000095\n",
      "499 [47.23214278  3.9107143 ] 45.93749999999999\n"
     ]
    }
   ],
   "source": [
    "n = X.shape[0]\n",
    "eta = 0.06\n",
    "iterations = 500\n",
    "w = np.array([1, 0.5])\n",
    "\n",
    "for i in range(iterations):\n",
    "    y_pred = np.dot(X, w)\n",
    "    err = calc_mse(y, y_pred)\n",
    "    for j in range(w.shape[0]):\n",
    "        w[j] -= eta * (1/n * 2 * np.sum(X[:,j] * (y_pred - y)))\n",
    "    if i % 100 == 0:\n",
    "        eta = 0.85*eta\n",
    "        print(i, w, err) # МНК: array([47.23214286,  3.91071429]) 45.937499999999986\n",
    "print(i, w, err)"
   ]
  },
  {
   "cell_type": "markdown",
   "id": "d308355a",
   "metadata": {},
   "source": [
    "*2. В этом коде мы избавляемся от итераций по весам, но тут есть ошибка, исправьте ее:"
   ]
  },
  {
   "cell_type": "code",
   "execution_count": 51,
   "id": "372dc4f3",
   "metadata": {},
   "outputs": [
    {
     "name": "stdout",
     "output_type": "stream",
     "text": [
      "0 [1.4502 0.9502] 3173.15\n",
      "100 [11.6740207 11.1740207] 737.5884748924025\n",
      "200 [11.82000082 11.32000082] 737.0919281764903\n",
      "300 [11.82208519 11.32208519] 737.0918269437198\n",
      "400 [11.82211495 11.32211495] 737.0918269230813\n",
      "500 [11.82211538 11.32211538] 737.0918269230768\n",
      "600 [11.82211538 11.32211538] 737.0918269230768\n",
      "700 [11.82211538 11.32211538] 737.091826923077\n",
      "800 [11.82211538 11.32211538] 737.0918269230768\n",
      "900 [11.82211538 11.32211538] 737.0918269230768\n",
      "1000 [11.82211538 11.32211538] 737.0918269230768\n"
     ]
    }
   ],
   "source": [
    "w = np.array([1, 0.5])\n",
    "n = X.shape[0]\n",
    "eta = 1e-3\n",
    "iterations = 1001\n",
    "\n",
    "for i in range(iterations):\n",
    "    y_pred = np.dot(X, w)\n",
    "    err = calc_mse(y, y_pred)\n",
    "    w -= (eta * (1/n * 2 * np.sum(X.T * (y_pred - y)))) # ошибка!\n",
    "    if i % 100 == 0:\n",
    "        print(i, w, err) # [47.23214286  3.91071429] 45.937499999999986"
   ]
  },
  {
   "cell_type": "markdown",
   "id": "73942310",
   "metadata": {},
   "source": [
    "Исправленный код выглядит следующим образом:"
   ]
  },
  {
   "cell_type": "code",
   "execution_count": 52,
   "id": "f457e0ee",
   "metadata": {},
   "outputs": [
    {
     "name": "stdout",
     "output_type": "stream",
     "text": [
      "0 [1.1102 0.84  ] 3173.15\n",
      "100 [ 7.43515582 10.71754582] 899.5990444359252\n",
      "200 [11.44993589 10.49282195] 735.5540619653672\n",
      "300 [14.98921624  9.8634316 ] 606.0048772266812\n",
      "400 [18.17511588  9.27626113] 500.7989288428639\n",
      "500 [21.04606457  8.74617136] 415.355423398327\n",
      "600 [23.63334499  8.26841272] 345.9620646005472\n",
      "700 [25.96499229  7.83785632] 289.6039104863001\n",
      "800 [28.06626432  7.44984037] 243.83236130353217\n",
      "900 [29.95992301  7.10016181] 206.65877484533297\n",
      "1000 [31.66648131  6.78503276] 176.46806566379882\n"
     ]
    }
   ],
   "source": [
    "w = np.array([1, 0.5])\n",
    "n = X.shape[0]\n",
    "eta = 1e-3\n",
    "iterations = 1001\n",
    "\n",
    "for i in range(iterations):\n",
    "    y_pred = np.dot(X, w)\n",
    "    err = calc_mse(y, y_pred)\n",
    "    w -= (eta * (1/n * 2 * np.dot(X.T,(y_pred - y)))) \n",
    "    if i % 100 == 0:\n",
    "        print(i, w, err) # [47.23214286  3.91071429] 45.937499999999986"
   ]
  },
  {
   "cell_type": "markdown",
   "id": "d701b1cd",
   "metadata": {},
   "source": [
    "*3. Вместо того, чтобы задавать количество итераций, задайте условие остановки алгоритма - когда ошибка за итерацию начинает изменяться ниже определенного порога. \n",
    "\n",
    "Сколько нужно сделать итераций, если установить допустимое отклонение mse за одну итерацию в размере diff=1e-6, а значение eta=1e-2?"
   ]
  },
  {
   "cell_type": "code",
   "execution_count": 117,
   "id": "eb3a20d7",
   "metadata": {},
   "outputs": [
    {
     "name": "stdout",
     "output_type": "stream",
     "text": [
      "Количество итераций составляет: 809\n"
     ]
    }
   ],
   "source": [
    "w = np.array([1, 0.5])\n",
    "diff = 1e-6\n",
    "eta = 1e-2\n",
    "n = X.shape[0]\n",
    "\n",
    "# зададим начальную разницу ошибок большим числом\n",
    "error_diff = np.inf\n",
    "\n",
    "# счетчик итераций\n",
    "iter_num = 0\n",
    "\n",
    "err=0\n",
    "\n",
    "while error_diff > diff:\n",
    "    y_pred = np.dot(X, w)\n",
    "    w -= (eta * (1/n * 2 * np.dot(X.T,(y_pred - y))))\n",
    "    \n",
    "    y_pred_new = np.dot(X, w)\n",
    "    new_error = calc_mse(y, y_pred_new)\n",
    "    \n",
    "    error_diff = abs(new_error - err)\n",
    "    \n",
    "    iter_num += 1\n",
    "    err = new_error\n",
    "  \n",
    "print(f'Количество итераций составляет: {iter_num}')"
   ]
  },
  {
   "cell_type": "code",
   "execution_count": null,
   "id": "9ba3b79c",
   "metadata": {},
   "outputs": [],
   "source": []
  }
 ],
 "metadata": {
  "kernelspec": {
   "display_name": "Python 3",
   "language": "python",
   "name": "python3"
  },
  "language_info": {
   "codemirror_mode": {
    "name": "ipython",
    "version": 3
   },
   "file_extension": ".py",
   "mimetype": "text/x-python",
   "name": "python",
   "nbconvert_exporter": "python",
   "pygments_lexer": "ipython3",
   "version": "3.8.8"
  }
 },
 "nbformat": 4,
 "nbformat_minor": 5
}
